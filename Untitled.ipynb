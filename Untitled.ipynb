{
 "cells": [
  {
   "cell_type": "markdown",
   "metadata": {},
   "source": [
    "## 尾递归 Tail recursion"
   ]
  },
  {
   "cell_type": "markdown",
   "metadata": {},
   "source": [
    "当递归调用是整个函数体中 最后执行的语句 ,且 它的返回值不属于表达式的一部分 时，这个递归调用就是尾递归。"
   ]
  },
  {
   "cell_type": "markdown",
   "metadata": {},
   "source": [
    "### 辗转相除法\n",
    "\n",
    "设两数为 $a, b$ ，求 $a$ 和 $b$ 最大公约数 $(a, b)$ 的步骤如下：\n",
    "1. 用 $a$ 除以 $b(a \\geq b)$ ，得 ${a}/{b}=q...r_{1}(0 \\leq r_{1})$\n",
    "2. 若 $r_{1}=0$ ,则 $(a, b)=b$ \n",
    "3. 若 $r_{1}\\ne 0$，则再用 $b$ 除以 $r_{1}$ ，得 $b/r_{1}=q...r_{2}(0 \\leq r_{2})$\n",
    "4. 若 $r_{2} = 0$ ，则 $(a, b)=r_{1}$；若 $r_{2} \\ne 0$ ，则继续用 $r_{1}$ 除以 $r_{2}$ ，...，如此下去，直到能整除为止。\n",
    "\n",
    "其最后一个余数为 $0$ 的除数即为 $(a, b)$ 的最大公约数。\n",
    "\n",
    "即，用`除数`除以`余数`，第一个能整除的除数就是最大公约数。"
   ]
  },
  {
   "cell_type": "code",
   "execution_count": 1,
   "metadata": {},
   "outputs": [
    {
     "name": "stdout",
     "output_type": "stream",
     "text": [
      "3\n"
     ]
    }
   ],
   "source": [
    "#include<stdio.h>\n",
    "int main(){\n",
    "    int GCD(int a, int b);\n",
    "    printf(\"%d\\n\",GCD(15,18));\n",
    "}\n",
    "\n",
    "int GCD(int a, int b){\n",
    "    if(b==0)\n",
    "        return a;\n",
    "    else\n",
    "        return GCD(b, a % b);\n",
    "}"
   ]
  },
  {
   "cell_type": "markdown",
   "metadata": {},
   "source": []
  }
 ],
 "metadata": {
  "kernelspec": {
   "display_name": "C",
   "language": "c",
   "name": "c"
  },
  "language_info": {
   "file_extension": ".c",
   "mimetype": "text/plain",
   "name": "c"
  }
 },
 "nbformat": 4,
 "nbformat_minor": 2
}
